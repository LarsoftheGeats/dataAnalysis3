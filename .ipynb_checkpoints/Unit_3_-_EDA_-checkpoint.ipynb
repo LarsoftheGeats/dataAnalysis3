{
 "cells": [
  {
   "cell_type": "markdown",
   "id": "baa2d43d",
   "metadata": {},
   "source": [
    "# Unit 3 Project - Exploratory Data Analysis"
   ]
  },
  {
   "cell_type": "markdown",
   "id": "9a087192",
   "metadata": {},
   "source": [
    "## Part 1 - Univariate Analysis - Visualization"
   ]
  },
  {
   "cell_type": "markdown",
   "id": "cd658876",
   "metadata": {},
   "source": [
    "### Step 1 - Open Jupyter Notebook in New Virtual Environment"
   ]
  },
  {
   "cell_type": "markdown",
   "id": "40926806",
   "metadata": {},
   "source": [
    "###### This step should have been completed prior to opening the Jupyter Notebook. If it was not, create and activate your virtual environment, then restart your notebook within the venv. "
   ]
  },
  {
   "cell_type": "markdown",
   "id": "0f4e500c",
   "metadata": {},
   "source": [
    "### Step 2 - Load DataFrame and Explore Dataset"
   ]
  },
  {
   "cell_type": "code",
   "execution_count": 2,
   "id": "383bdc9e",
   "metadata": {},
   "outputs": [],
   "source": [
    "################################### TO DO #########################################\n",
    "####### FOLLOW PROJECT INSTRUCTIONS TO COMPLETE THIS STEP IN THE CELLS BELOW ######"
   ]
  },
  {
   "cell_type": "code",
   "execution_count": 3,
   "id": "b19e33b1",
   "metadata": {},
   "outputs": [],
   "source": [
    "# import pandas and numpy\n",
    "import pandas as pd\n",
    "import numpy as np"
   ]
  },
  {
   "cell_type": "code",
   "execution_count": 4,
   "id": "9d6ad281",
   "metadata": {},
   "outputs": [],
   "source": [
    "# load salary.csv into dataframe\n",
    "#Since this is already clean I'm not loading as raw, but just as the salaryname\n",
    "salary=pd.read_csv(\"salary.csv\")"
   ]
  },
  {
   "cell_type": "code",
   "execution_count": 5,
   "id": "a48c191a",
   "metadata": {},
   "outputs": [
    {
     "data": {
      "text/html": [
       "<div>\n",
       "<style scoped>\n",
       "    .dataframe tbody tr th:only-of-type {\n",
       "        vertical-align: middle;\n",
       "    }\n",
       "\n",
       "    .dataframe tbody tr th {\n",
       "        vertical-align: top;\n",
       "    }\n",
       "\n",
       "    .dataframe thead th {\n",
       "        text-align: right;\n",
       "    }\n",
       "</style>\n",
       "<table border=\"1\" class=\"dataframe\">\n",
       "  <thead>\n",
       "    <tr style=\"text-align: right;\">\n",
       "      <th></th>\n",
       "      <th>age</th>\n",
       "      <th>gender</th>\n",
       "      <th>education</th>\n",
       "      <th>industry</th>\n",
       "      <th>industry_experience</th>\n",
       "      <th>salary</th>\n",
       "    </tr>\n",
       "  </thead>\n",
       "  <tbody>\n",
       "    <tr>\n",
       "      <th>0</th>\n",
       "      <td>19</td>\n",
       "      <td>Male</td>\n",
       "      <td>high school</td>\n",
       "      <td>business</td>\n",
       "      <td>0</td>\n",
       "      <td>33640.60752</td>\n",
       "    </tr>\n",
       "    <tr>\n",
       "      <th>1</th>\n",
       "      <td>21</td>\n",
       "      <td>Male</td>\n",
       "      <td>high school</td>\n",
       "      <td>business</td>\n",
       "      <td>2</td>\n",
       "      <td>43554.24216</td>\n",
       "    </tr>\n",
       "    <tr>\n",
       "      <th>2</th>\n",
       "      <td>19</td>\n",
       "      <td>Male</td>\n",
       "      <td>high school</td>\n",
       "      <td>business</td>\n",
       "      <td>0</td>\n",
       "      <td>39795.29424</td>\n",
       "    </tr>\n",
       "    <tr>\n",
       "      <th>3</th>\n",
       "      <td>22</td>\n",
       "      <td>Male</td>\n",
       "      <td>high school</td>\n",
       "      <td>business</td>\n",
       "      <td>1</td>\n",
       "      <td>51102.98856</td>\n",
       "    </tr>\n",
       "    <tr>\n",
       "      <th>4</th>\n",
       "      <td>21</td>\n",
       "      <td>Male</td>\n",
       "      <td>high school</td>\n",
       "      <td>business</td>\n",
       "      <td>1</td>\n",
       "      <td>32809.57056</td>\n",
       "    </tr>\n",
       "  </tbody>\n",
       "</table>\n",
       "</div>"
      ],
      "text/plain": [
       "   age gender    education  industry  industry_experience       salary\n",
       "0   19   Male  high school  business                    0  33640.60752\n",
       "1   21   Male  high school  business                    2  43554.24216\n",
       "2   19   Male  high school  business                    0  39795.29424\n",
       "3   22   Male  high school  business                    1  51102.98856\n",
       "4   21   Male  high school  business                    1  32809.57056"
      ]
     },
     "execution_count": 5,
     "metadata": {},
     "output_type": "execute_result"
    }
   ],
   "source": [
    "# look at first few values of dataframe\n",
    "salary.head()\n"
   ]
  },
  {
   "cell_type": "code",
   "execution_count": 6,
   "id": "327799c9",
   "metadata": {
    "scrolled": true
   },
   "outputs": [
    {
     "name": "stdout",
     "output_type": "stream",
     "text": [
      "<class 'pandas.core.frame.DataFrame'>\n",
      "RangeIndex: 25439 entries, 0 to 25438\n",
      "Data columns (total 6 columns):\n",
      " #   Column               Non-Null Count  Dtype  \n",
      "---  ------               --------------  -----  \n",
      " 0   age                  25439 non-null  int64  \n",
      " 1   gender               25439 non-null  object \n",
      " 2   education            25439 non-null  object \n",
      " 3   industry             25439 non-null  object \n",
      " 4   industry_experience  25439 non-null  int64  \n",
      " 5   salary               25439 non-null  float64\n",
      "dtypes: float64(1), int64(2), object(3)\n",
      "memory usage: 1.2+ MB\n"
     ]
    }
   ],
   "source": [
    "# look at basic dataframe info\n",
    "salary.info()"
   ]
  },
  {
   "cell_type": "code",
   "execution_count": 7,
   "id": "b6dad250",
   "metadata": {},
   "outputs": [
    {
     "data": {
      "text/html": [
       "<div>\n",
       "<style scoped>\n",
       "    .dataframe tbody tr th:only-of-type {\n",
       "        vertical-align: middle;\n",
       "    }\n",
       "\n",
       "    .dataframe tbody tr th {\n",
       "        vertical-align: top;\n",
       "    }\n",
       "\n",
       "    .dataframe thead th {\n",
       "        text-align: right;\n",
       "    }\n",
       "</style>\n",
       "<table border=\"1\" class=\"dataframe\">\n",
       "  <thead>\n",
       "    <tr style=\"text-align: right;\">\n",
       "      <th></th>\n",
       "      <th>age</th>\n",
       "      <th>industry_experience</th>\n",
       "      <th>salary</th>\n",
       "    </tr>\n",
       "  </thead>\n",
       "  <tbody>\n",
       "    <tr>\n",
       "      <th>count</th>\n",
       "      <td>25439.000000</td>\n",
       "      <td>25439.000000</td>\n",
       "      <td>25439.000000</td>\n",
       "    </tr>\n",
       "    <tr>\n",
       "      <th>mean</th>\n",
       "      <td>46.219466</td>\n",
       "      <td>18.418413</td>\n",
       "      <td>101416.000070</td>\n",
       "    </tr>\n",
       "    <tr>\n",
       "      <th>std</th>\n",
       "      <td>12.758662</td>\n",
       "      <td>8.916748</td>\n",
       "      <td>26136.687123</td>\n",
       "    </tr>\n",
       "    <tr>\n",
       "      <th>min</th>\n",
       "      <td>18.000000</td>\n",
       "      <td>0.000000</td>\n",
       "      <td>28054.080000</td>\n",
       "    </tr>\n",
       "    <tr>\n",
       "      <th>25%</th>\n",
       "      <td>36.000000</td>\n",
       "      <td>12.000000</td>\n",
       "      <td>84621.294048</td>\n",
       "    </tr>\n",
       "    <tr>\n",
       "      <th>50%</th>\n",
       "      <td>47.000000</td>\n",
       "      <td>19.000000</td>\n",
       "      <td>101148.480000</td>\n",
       "    </tr>\n",
       "    <tr>\n",
       "      <th>75%</th>\n",
       "      <td>57.000000</td>\n",
       "      <td>25.000000</td>\n",
       "      <td>119828.075728</td>\n",
       "    </tr>\n",
       "    <tr>\n",
       "      <th>max</th>\n",
       "      <td>67.000000</td>\n",
       "      <td>35.000000</td>\n",
       "      <td>175223.321900</td>\n",
       "    </tr>\n",
       "  </tbody>\n",
       "</table>\n",
       "</div>"
      ],
      "text/plain": [
       "                age  industry_experience         salary\n",
       "count  25439.000000         25439.000000   25439.000000\n",
       "mean      46.219466            18.418413  101416.000070\n",
       "std       12.758662             8.916748   26136.687123\n",
       "min       18.000000             0.000000   28054.080000\n",
       "25%       36.000000            12.000000   84621.294048\n",
       "50%       47.000000            19.000000  101148.480000\n",
       "75%       57.000000            25.000000  119828.075728\n",
       "max       67.000000            35.000000  175223.321900"
      ]
     },
     "execution_count": 7,
     "metadata": {},
     "output_type": "execute_result"
    }
   ],
   "source": [
    "salary.describe()\n"
   ]
  },
  {
   "cell_type": "markdown",
   "id": "7a9748f6",
   "metadata": {},
   "source": [
    "### Step 3 - Review Types of Basic Univariate Plots"
   ]
  },
  {
   "cell_type": "code",
   "execution_count": 8,
   "id": "de134166",
   "metadata": {},
   "outputs": [],
   "source": [
    "################################### TO DO #########################################\n",
    "####### FOLLOW PROJECT INSTRUCTIONS TO COMPLETE THIS STEP IN THE CELLS BELOW ######"
   ]
  },
  {
   "cell_type": "markdown",
   "id": "88e02be3",
   "metadata": {},
   "source": [
    "#### Fill in blanks with a brief description of each plot type:\n",
    "\n",
    "  \n",
    "- Histogram\n",
    "> [Breaks the data up into bins, and shows the count for each bin, gives you a sense of shape of the data.]\n",
    "- Density Plot / KDE\n",
    "> [Like a histogram but estimates are made of a connecting function called the kernel, to smoothly interpolate between discrete bins.  ]\n",
    "- Bar Chart\n",
    "> [Shows the numeric value for various categories.  ]\n",
    "- Line Plot\n",
    "> [Show the values by index and then connects them sequentially with a line.   Good for time indexed things that have trends]\n",
    "- Univariate scatter plot\n",
    "> [Plot a dot for every (x,y) pair]\n",
    "- Violin Plot\n",
    "> [Rotates and doubles the Kernel Density function to show the shape of the data in every category]\n",
    "- Box Plot\n",
    "> [Shows a central tendency of the data, with the median shown, as well as 2-boxes demonstrating the middle 50%.  And then 2-whiskers showing the trended maximum for a value.  Values outside the whiskers are shown as dots representing outliers]\n",
    "- Pie Chart\n",
    "> [Represents the data as a percentage of a whole.  The % is proportional to the slice of the circle the data takes up]\n",
    "- Rug Plot\n",
    "> [Similar to a Density plot, but each value gits an arbitrarily sized tick corresponding to its index value.  The rug becomes \"thicker\" when there's a lot of data.  Hard to read, generally unused.]\n"
   ]
  },
  {
   "cell_type": "markdown",
   "id": "643f91a7",
   "metadata": {},
   "source": [
    "### Step 4 - Choose Which Plot(s) You Will Use for Each Variable"
   ]
  },
  {
   "cell_type": "code",
   "execution_count": 9,
   "id": "1a551ee5",
   "metadata": {},
   "outputs": [],
   "source": [
    "################################### TO DO #########################################\n",
    "####### FOLLOW PROJECT INSTRUCTIONS TO COMPLETE THIS STEP IN THE CELLS BELOW ######"
   ]
  },
  {
   "cell_type": "markdown",
   "id": "82f93c8f",
   "metadata": {},
   "source": [
    "#### Take a moment to plan what types of plots you will make for each variable  \n",
    "  \n",
    "  \n",
    "- age\n",
    ">Histogram.  I like seeing the shape of the age values.  The KDE might be even more informative  Age vs count of workers\n",
    "- gender\n",
    ">A pie chart.  There aren't that many gender categories, so it shows up cleanly as a percentage\n",
    "- education\n",
    ">Bar Graph.  Plotting percentage by category  \n",
    "- industry\n",
    ">Bar Chart Count vs category\n",
    "- industry experience\n",
    ">Density Plot/ KDE\n",
    "- salary\n",
    ">Histogram Count vs salary/year"
   ]
  },
  {
   "cell_type": "markdown",
   "id": "1f60f546",
   "metadata": {},
   "source": [
    "### Step 5 - Create Plots for Each Variable in Dataset"
   ]
  },
  {
   "cell_type": "code",
   "execution_count": 10,
   "id": "2104cf8c",
   "metadata": {},
   "outputs": [],
   "source": [
    "# import matplotlib\n",
    "import matplotlib.pyplot as plt\n",
    "\n",
    "# import seaborn\n",
    "import seaborn as sns\n",
    "\n",
    "# set standard plot type as seaborn plot\n",
    "sns.set()\n",
    "\n",
    "\n",
    "\n",
    "# write command for plots to appear in jupyter cells automatically\n",
    "%matplotlib inline\n"
   ]
  },
  {
   "cell_type": "code",
   "execution_count": 11,
   "id": "7303b321",
   "metadata": {},
   "outputs": [],
   "source": [
    "################################### TO DO #########################################\n",
    "####### FOLLOW PROJECT INSTRUCTIONS TO COMPLETE THIS STEP IN THE CELLS BELOW ######"
   ]
  },
  {
   "cell_type": "markdown",
   "id": "ff6feb62",
   "metadata": {},
   "source": [
    "### Plot for 'age' column"
   ]
  },
  {
   "cell_type": "code",
   "execution_count": 12,
   "id": "32d5f3e6",
   "metadata": {
    "scrolled": false
   },
   "outputs": [
    {
     "name": "stderr",
     "output_type": "stream",
     "text": [
      "C:\\Users\\User\\anaconda3\\lib\\site-packages\\seaborn\\distributions.py:2619: FutureWarning: `distplot` is a deprecated function and will be removed in a future version. Please adapt your code to use either `displot` (a figure-level function with similar flexibility) or `histplot` (an axes-level function for histograms).\n",
      "  warnings.warn(msg, FutureWarning)\n"
     ]
    },
    {
     "data": {
      "text/plain": [
       "<AxesSubplot:xlabel='age', ylabel='Density'>"
      ]
     },
     "execution_count": 12,
     "metadata": {},
     "output_type": "execute_result"
    },
    {
     "data": {
      "image/png": "[encoded data removed]",
      "text/plain": [
       "<Figure size 640x480 with 1 Axes>"
      ]
     },
     "metadata": {},
     "output_type": "display_data"
    }
   ],
   "source": [
    "# create plot for age column\n",
    "#note I originally used distplot, moved to displot\n",
    "sns.distplot(salary['age'], kde=True, bins=10, hist=True)"
   ]
  },
  {
   "cell_type": "markdown",
   "id": "91b9a16c",
   "metadata": {},
   "source": [
    "##### Insights:\n",
    "\n",
    "You can clearly see people entering the workforce at 18 and leaving at 70.  The KDE overlay indicates spikes in the data which may not be captured by the lumped up nature of the bins.  "
   ]
  },
  {
   "cell_type": "markdown",
   "id": "8a7eb9f7",
   "metadata": {},
   "source": [
    "### Plot for 'industry' column"
   ]
  },
  {
   "cell_type": "code",
   "execution_count": 13,
   "id": "8e42ae95",
   "metadata": {},
   "outputs": [
    {
     "data": {
      "text/plain": [
       "[(5000.0, 6500.0)]"
      ]
     },
     "execution_count": 13,
     "metadata": {},
     "output_type": "execute_result"
    },
    {
     "data": {
      "text/plain": [
       "<Figure size 640x480 with 0 Axes>"
      ]
     },
     "metadata": {},
     "output_type": "display_data"
    },
    {
     "data": {
      "image/png": "[encoded data removed]",
      "text/plain": [
       "<Figure size 640x480 with 1 Axes>"
      ]
     },
     "metadata": {},
     "output_type": "display_data"
    }
   ],
   "source": [
    "# create plot for industry column\n",
    "fig = plt.figure()\n",
    "y=salary['industry'].value_counts()\n",
    "x=salary['industry'].unique()\n",
    "fig, ax= plt.subplots()\n",
    "ax.bar(x,y, width=.8, edgecolor=\"white\", linewidth=0.2)\n",
    "ax.set (ylim=(5000,6500))\n",
    "#I chose to zoom in\n"
   ]
  },
  {
   "cell_type": "markdown",
   "id": "3c42c49c",
   "metadata": {},
   "source": [
    "##### Insights:\n",
    "I needed to zoom in to see any distinction between the industries  The big thing we see is that the data has a roughly even sampling from industries it hose"
   ]
  },
  {
   "cell_type": "markdown",
   "id": "d377bb4b",
   "metadata": {},
   "source": [
    "### Plot for 'salary' column"
   ]
  },
  {
   "cell_type": "code",
   "execution_count": 17,
   "id": "249f87db",
   "metadata": {},
   "outputs": [
    {
     "name": "stderr",
     "output_type": "stream",
     "text": [
      "C:\\Users\\User\\anaconda3\\lib\\site-packages\\seaborn\\distributions.py:2619: FutureWarning: `distplot` is a deprecated function and will be removed in a future version. Please adapt your code to use either `displot` (a figure-level function with similar flexibility) or `histplot` (an axes-level function for histograms).\n",
      "  warnings.warn(msg, FutureWarning)\n"
     ]
    },
    {
     "data": {
      "image/png": "[encoded data removed]",
      "text/plain": [
       "<Figure size 640x480 with 1 Axes>"
      ]
     },
     "metadata": {},
     "output_type": "display_data"
    }
   ],
   "source": [
    "# create plot for salary column\n",
    "fig=sns.distplot(salary['salary'], kde=False, bins=15, hist=True)\n"
   ]
  },
  {
   "cell_type": "markdown",
   "id": "007c1a63",
   "metadata": {},
   "source": [
    "##### Insights:\n",
    "\n",
    "This shows some central tendencies that look more like a standard normal curve"
   ]
  },
  {
   "cell_type": "markdown",
   "id": "7306d6d7",
   "metadata": {},
   "source": [
    "### Plot for 'industry_experience' column"
   ]
  },
  {
   "cell_type": "code",
   "execution_count": 23,
   "id": "59d08e86",
   "metadata": {},
   "outputs": [
    {
     "name": "stderr",
     "output_type": "stream",
     "text": [
      "C:\\Users\\User\\anaconda3\\lib\\site-packages\\seaborn\\distributions.py:2619: FutureWarning: `distplot` is a deprecated function and will be removed in a future version. Please adapt your code to use either `displot` (a figure-level function with similar flexibility) or `kdeplot` (an axes-level function for kernel density plots).\n",
      "  warnings.warn(msg, FutureWarning)\n",
      "C:\\Users\\User\\anaconda3\\lib\\site-packages\\seaborn\\distributions.py:2619: FutureWarning: `distplot` is a deprecated function and will be removed in a future version. Please adapt your code to use either `displot` (a figure-level function with similar flexibility) or `histplot` (an axes-level function for histograms).\n",
      "  warnings.warn(msg, FutureWarning)\n"
     ]
    },
    {
     "data": {
      "text/plain": [
       "<AxesSubplot:xlabel='industry_experience', ylabel='Density'>"
      ]
     },
     "execution_count": 23,
     "metadata": {},
     "output_type": "execute_result"
    },
    {
     "data": {
      "image/png": "[encoded data removed]",
      "text/plain": [
       "<Figure size 640x480 with 1 Axes>"
      ]
     },
     "metadata": {},
     "output_type": "display_data"
    }
   ],
   "source": [
    "# create plot for industry experience column\n",
    "sns.distplot(salary['age']-18, kde=True, bins=15, hist=False, color='red')\n",
    "sns.distplot(salary['industry_experience'], kde=True, bins=15, hist=True)"
   ]
  },
  {
   "cell_type": "markdown",
   "id": "029da89d",
   "metadata": {},
   "source": [
    "##### Insights:\n",
    "\n",
    "\n",
    "Whats fascinating is that even though the data looks close to a normal curve, the age distribution from a previous look a more end loaded distribution.  The difference clearly suggesting job switches.  As you can see in the above, the above when we adjust down the age by 18, we have an high-weighted age distribution which the industry-experience data doesn't have. "
   ]
  },
  {
   "cell_type": "markdown",
   "id": "c29d3747",
   "metadata": {},
   "source": [
    "### Plot for 'education' column"
   ]
  },
  {
   "cell_type": "code",
   "execution_count": 24,
   "id": "949e6d26",
   "metadata": {},
   "outputs": [
    {
     "data": {
      "text/plain": [
       "<AxesSubplot:xlabel='education', ylabel='count'>"
      ]
     },
     "execution_count": 24,
     "metadata": {},
     "output_type": "execute_result"
    },
    {
     "data": {
      "image/png": "[encoded data removed]",
      "text/plain": [
       "<Figure size 640x480 with 1 Axes>"
      ]
     },
     "metadata": {},
     "output_type": "display_data"
    }
   ],
   "source": [
    "# create plot for education levels\n",
    "sns.countplot(x='education', data=salary)"
   ]
  },
  {
   "cell_type": "markdown",
   "id": "643cb6f5",
   "metadata": {},
   "source": [
    "##### Insights:\n",
    "\n",
    "The Sample is  heavily weighted towards those that have completed a degree"
   ]
  },
  {
   "cell_type": "markdown",
   "id": "2644e3f4",
   "metadata": {},
   "source": [
    "### Plot for 'gender' column"
   ]
  },
  {
   "cell_type": "code",
   "execution_count": 53,
   "id": "1ce546d1",
   "metadata": {},
   "outputs": [
    {
     "name": "stderr",
     "output_type": "stream",
     "text": [
      "C:\\Users\\User\\anaconda3\\lib\\site-packages\\seaborn\\_decorators.py:36: FutureWarning: Pass the following variables as keyword args: x, y. From version 0.12, the only valid positional argument will be `data`, and passing other arguments without an explicit keyword will result in an error or misinterpretation.\n",
      "  warnings.warn(\n"
     ]
    },
    {
     "data": {
      "text/plain": [
       "[(12100.0, 12800.0)]"
      ]
     },
     "execution_count": 53,
     "metadata": {},
     "output_type": "execute_result"
    },
    {
     "data": {
      "image/png": "[encoded data removed]",
      "text/plain": [
       "<Figure size 640x480 with 1 Axes>"
      ]
     },
     "metadata": {},
     "output_type": "display_data"
    }
   ],
   "source": [
    "dummy={'Gender':['male','female'],'count':[12720,12720]}\n",
    "df=pd.DataFrame(dummy)\n",
    "fig, ax= plt.subplots()\n",
    "sns.barplot(df['Gender'],df['count'],color='green')\n",
    "sns.countplot(x='gender', data=salary,alpha=.8)\n",
    "ax.set (ylim=(12100,12800))"
   ]
  },
  {
   "cell_type": "code",
   "execution_count": 51,
   "id": "8a3cd8c5",
   "metadata": {
    "scrolled": true
   },
   "outputs": [
    {
     "data": {
      "image/png": "[encoded data removed]",
      "text/plain": [
       "<Figure size 640x480 with 1 Axes>"
      ]
     },
     "metadata": {},
     "output_type": "display_data"
    }
   ],
   "source": [
    "x = salary.groupby('gender')['gender'].count()\n",
    "colors = plt.get_cmap('Blues')(np.linspace(0.2, 0.7, len(x)))\n",
    "x\n",
    "\n",
    "fig, ax = plt.subplots()\n",
    "ax.pie(x, colors=colors, radius=3, center=(4, 4),\n",
    "       wedgeprops={\"linewidth\": 1, \"edgecolor\": \"white\"}, frame=True)\n",
    "\n",
    "ax.set(xlim=(0, 8), xticks=np.arange(1, 8),\n",
    "       ylim=(0, 8), yticks=np.arange(1, 8))\n",
    "\n",
    "plt.show()"
   ]
  },
  {
   "cell_type": "markdown",
   "id": "aafd3de1",
   "metadata": {},
   "source": [
    "##### Insights:\n",
    "\n",
    "The big insight is that the difference samples between male and female is miniscule.  On the bar plot above I graphed a 50% in both categories as an overlay, and the color change is just a tiny slice of the 2 samples.  "
   ]
  },
  {
   "cell_type": "markdown",
   "id": "26bbf342",
   "metadata": {},
   "source": [
    "## Part 2 - Summary Statistics"
   ]
  },
  {
   "cell_type": "markdown",
   "id": "6e8d8bed",
   "metadata": {},
   "source": [
    "### Step 1 - Review Summary Statistics"
   ]
  },
  {
   "cell_type": "code",
   "execution_count": 22,
   "id": "640c3a9a",
   "metadata": {},
   "outputs": [],
   "source": [
    "################################### TO DO #########################################\n",
    "####### FOLLOW PROJECT INSTRUCTIONS TO COMPLETE THIS STEP IN THE CELLS BELOW ######"
   ]
  },
  {
   "cell_type": "markdown",
   "id": "a8397d6c",
   "metadata": {},
   "source": [
    "- mean\n",
    "> Average.  That is total valuation or \"score\" over all samples divided by all samples.  \n",
    "- median\n",
    "> A middle point.  The point at which 1/2 the samples are greater than or equal to a value, and 1/2 are less than that value\n",
    "- mode\n",
    "> The most common value or measurement.  \n",
    "- central tendency\n",
    "> A value that describes the center of the dataset.  For instance mean is a bad descriptor of income, but more reasonable for height since the long tail in income isn't limited by biology.  \n",
    "- distribution\n",
    "> The shape of the graph, for instance standard normal, Poisson, exponential.  \n",
    "- variance\n",
    "> A value that quantifies how widely spaced things are from the mean.  A measure of \"spread\"\n",
    "- standard deviation\n",
    "> Multiple meanings, but it's derived from variance and indicates how much something is spread from the mean.  Also within a  standard deviation we have about ~ 68% of the samples or observations"
   ]
  },
  {
   "cell_type": "markdown",
   "id": "071813ce",
   "metadata": {},
   "source": [
    "### Step 2 - Find  & Report Summary Statistics For Numeric Variables"
   ]
  },
  {
   "cell_type": "code",
   "execution_count": 23,
   "id": "27de12ee",
   "metadata": {},
   "outputs": [],
   "source": [
    "################################### TO DO #########################################\n",
    "####### FOLLOW PROJECT INSTRUCTIONS TO COMPLETE THIS STEP IN THE CELLS BELOW ######"
   ]
  },
  {
   "cell_type": "markdown",
   "id": "8fbe124c",
   "metadata": {},
   "source": [
    "#### Age Summary Statistics"
   ]
  },
  {
   "cell_type": "code",
   "execution_count": 13,
   "id": "dcfe2a15",
   "metadata": {},
   "outputs": [],
   "source": [
    "# use .describe to get summary statistics for age column"
   ]
  },
  {
   "cell_type": "code",
   "execution_count": 15,
   "id": "7f9a7b6f",
   "metadata": {},
   "outputs": [],
   "source": [
    "# create boxplot to visualize age summary statistics"
   ]
  },
  {
   "cell_type": "markdown",
   "id": "bac0a897",
   "metadata": {},
   "source": [
    "- age **mean**\n",
    "> The mean age is [...]\n",
    "- age **median**\n",
    "> The median age is [...]\n",
    "- age **minimum**\n",
    "> The minimum age is [...]\n",
    "- age **maximum**\n",
    "> The maximum age is [...]\n",
    "- age **standard deviation**\n",
    "> The standard deviation is [...] "
   ]
  },
  {
   "cell_type": "markdown",
   "id": "0cf267f9",
   "metadata": {},
   "source": [
    "###### Reflection: How did mean and median differ above? Why do you think that is?\n",
    "\n",
    "[your answer here]"
   ]
  },
  {
   "cell_type": "markdown",
   "id": "6168d7c8",
   "metadata": {},
   "source": [
    "#### Salary Summary Statistics"
   ]
  },
  {
   "cell_type": "code",
   "execution_count": 16,
   "id": "5ec63d65",
   "metadata": {},
   "outputs": [],
   "source": [
    "# use .describe to get summary statistics for salary"
   ]
  },
  {
   "cell_type": "code",
   "execution_count": 18,
   "id": "37118ff1",
   "metadata": {
    "scrolled": true
   },
   "outputs": [],
   "source": [
    "# create boxplot to visualize salary summary statistics"
   ]
  },
  {
   "cell_type": "markdown",
   "id": "f7c9ff81",
   "metadata": {},
   "source": [
    "- Salary **mean**\n",
    "> The mean salary is [...]\n",
    "- Salary **median**\n",
    "> The median salary is [...]\n",
    "- Salary **minimum**\n",
    "> The minimum salary is [...]\n",
    "- Salary **maximum**\n",
    "> The maximum salary is [...]\n",
    "- Salary **standard deviation**\n",
    "> The standard deviation is [...]"
   ]
  },
  {
   "cell_type": "markdown",
   "id": "90bbbe7e",
   "metadata": {},
   "source": [
    "###### Reflection: How did mean and median differ above? Why do you think that is?\n",
    "\n",
    "[your answer here]"
   ]
  },
  {
   "cell_type": "markdown",
   "id": "64f1c14a",
   "metadata": {},
   "source": [
    "### Step 3 - Find Salary Summary Statistics By Industry"
   ]
  },
  {
   "cell_type": "code",
   "execution_count": 28,
   "id": "bb5ccb52",
   "metadata": {},
   "outputs": [],
   "source": [
    "################################### TO DO #########################################\n",
    "####### FOLLOW PROJECT INSTRUCTIONS TO COMPLETE THIS STEP IN THE CELLS BELOW ######"
   ]
  },
  {
   "cell_type": "code",
   "execution_count": 19,
   "id": "c7e92c1d",
   "metadata": {},
   "outputs": [],
   "source": [
    "# use groupby() and describe() to get salary summary statistics by industry"
   ]
  },
  {
   "cell_type": "code",
   "execution_count": 20,
   "id": "a364806e",
   "metadata": {},
   "outputs": [],
   "source": [
    "# create visualization with multiple boxplots to show salary summary statistics by industry"
   ]
  },
  {
   "cell_type": "markdown",
   "id": "fb0a29d8",
   "metadata": {},
   "source": [
    "##### Insights:\n",
    "\n",
    "[fill in with your observations from the analysis]"
   ]
  },
  {
   "cell_type": "markdown",
   "id": "9f54ff3c",
   "metadata": {},
   "source": [
    "### Step 4 - Find Salary Summary Statistics By Education"
   ]
  },
  {
   "cell_type": "code",
   "execution_count": 32,
   "id": "546016eb",
   "metadata": {},
   "outputs": [],
   "source": [
    "################################### TO DO #########################################\n",
    "####### FOLLOW PROJECT INSTRUCTIONS TO COMPLETE THIS STEP IN THE CELLS BELOW ######"
   ]
  },
  {
   "cell_type": "code",
   "execution_count": 22,
   "id": "5878a471",
   "metadata": {},
   "outputs": [],
   "source": [
    "# use groupby() and describe() to get salary summary statistics by education level"
   ]
  },
  {
   "cell_type": "code",
   "execution_count": 23,
   "id": "acc802f2",
   "metadata": {},
   "outputs": [],
   "source": [
    "# create visualization with multiple boxplots to show salary summary statistics by education level"
   ]
  },
  {
   "cell_type": "markdown",
   "id": "5bb88719",
   "metadata": {},
   "source": [
    "##### Insights:\n",
    "\n",
    "[fill in with your observations from the visualization]"
   ]
  },
  {
   "cell_type": "markdown",
   "id": "d90a7570",
   "metadata": {},
   "source": [
    "### Step 5 - Find Salary Summary Statistics by Gender"
   ]
  },
  {
   "cell_type": "code",
   "execution_count": 36,
   "id": "d7940bfb",
   "metadata": {},
   "outputs": [],
   "source": [
    "################################### TO DO #########################################\n",
    "####### FOLLOW PROJECT INSTRUCTIONS TO COMPLETE THIS STEP IN THE CELLS BELOW ######"
   ]
  },
  {
   "cell_type": "code",
   "execution_count": 24,
   "id": "5b5cb514",
   "metadata": {},
   "outputs": [],
   "source": [
    "# use groupby() and describe() to get salary summary statistics by gender"
   ]
  },
  {
   "cell_type": "code",
   "execution_count": 25,
   "id": "e5d6b7b6",
   "metadata": {},
   "outputs": [],
   "source": [
    "# create visualization with multiple boxplots to show summary statistics by gender"
   ]
  },
  {
   "cell_type": "markdown",
   "id": "beb4f03a",
   "metadata": {},
   "source": [
    "##### Insights:\n",
    "\n",
    "[fill in with your observations from the visualization]"
   ]
  },
  {
   "cell_type": "markdown",
   "id": "f8ba0017",
   "metadata": {},
   "source": [
    "## Part 3 - Looking for Relationships in Data"
   ]
  },
  {
   "cell_type": "markdown",
   "id": "3f336b3c",
   "metadata": {},
   "source": [
    "### Step 1 - Review Useful Tools for Bivariate Relationships"
   ]
  },
  {
   "cell_type": "code",
   "execution_count": 40,
   "id": "76950687",
   "metadata": {},
   "outputs": [],
   "source": [
    "################################### TO DO #########################################\n",
    "####### FOLLOW PROJECT INSTRUCTIONS TO COMPLETE THIS STEP IN THE CELLS BELOW ######"
   ]
  },
  {
   "cell_type": "markdown",
   "id": "ca276bc4",
   "metadata": {},
   "source": [
    "#### Fill in the blanks below with brief explanations of each type of plot listed  \n",
    "\n",
    "- **Categorical Data**\n",
    "> ***Contingency Table***\n",
    ">\n",
    ">[...]\n",
    ">\n",
    "> ***Clustered Bar Chart***\n",
    ">\n",
    ">[...]\n",
    "\n",
    "- **Mixed Data**\n",
    "> ***Individual Value Plot***\n",
    ">\n",
    ">[...]\n",
    ">\n",
    "> ***Strip Plot***\n",
    ">\n",
    ">[...]\n",
    "\n",
    "- **Quantitative Data**\n",
    "> ***Scatter plots***\n",
    ">\n",
    "> [...]"
   ]
  },
  {
   "cell_type": "markdown",
   "id": "4291af48",
   "metadata": {},
   "source": [
    "### Step 2 - Create Bivariate Plots & Tables"
   ]
  },
  {
   "cell_type": "markdown",
   "id": "a1026c3b",
   "metadata": {},
   "source": [
    "In the end of Part 2, you began looking at relationships between variables when you created boxplots which visualized the distribution of salary across different categories. In this step, you will make plots and visualizations to begin looking deeper for patterns and relationships between two variables. "
   ]
  },
  {
   "cell_type": "code",
   "execution_count": 41,
   "id": "2c7334d7",
   "metadata": {},
   "outputs": [],
   "source": [
    "################################### TO DO #########################################\n",
    "####### FOLLOW PROJECT INSTRUCTIONS TO COMPLETE THIS STEP IN THE CELLS BELOW ######"
   ]
  },
  {
   "cell_type": "markdown",
   "id": "4cdb8acb",
   "metadata": {},
   "source": [
    "### Use the Pandas Crosstab() function to compare categorical variables"
   ]
  },
  {
   "cell_type": "markdown",
   "id": "1f2325b9",
   "metadata": {},
   "source": [
    "#### crosstab of gender and education"
   ]
  },
  {
   "cell_type": "code",
   "execution_count": 27,
   "id": "10c27a5b",
   "metadata": {},
   "outputs": [],
   "source": [
    "# use pd.crosstab to count number of managers at each education level, grouped by gender"
   ]
  },
  {
   "cell_type": "markdown",
   "id": "41b10043",
   "metadata": {},
   "source": [
    "##### Insights:\n",
    "\n",
    "[fill in with your observations from the visualization]"
   ]
  },
  {
   "cell_type": "markdown",
   "id": "cd5f6bf8",
   "metadata": {},
   "source": [
    "### Strip plot between age and education"
   ]
  },
  {
   "cell_type": "code",
   "execution_count": 29,
   "id": "88b9e3b6",
   "metadata": {},
   "outputs": [],
   "source": [
    "# create strip plot for age and education"
   ]
  },
  {
   "cell_type": "markdown",
   "id": "6d5d3c6b",
   "metadata": {},
   "source": [
    "##### Insights:\n",
    "\n",
    "[fill in with your observations from the visualization]"
   ]
  },
  {
   "cell_type": "markdown",
   "id": "1e962141",
   "metadata": {},
   "source": [
    "### Scatterplot for age and salary"
   ]
  },
  {
   "cell_type": "code",
   "execution_count": 30,
   "id": "714580a6",
   "metadata": {},
   "outputs": [],
   "source": [
    "# create scatterplot for age and salary"
   ]
  },
  {
   "cell_type": "markdown",
   "id": "30f84d39",
   "metadata": {},
   "source": [
    "##### Insights:\n",
    "\n",
    "[fill in with your observations from the visualization]"
   ]
  },
  {
   "cell_type": "markdown",
   "id": "ec9eed9d",
   "metadata": {},
   "source": [
    "### Scatterplot for industry experience and salary"
   ]
  },
  {
   "cell_type": "code",
   "execution_count": 31,
   "id": "4e977c1e",
   "metadata": {
    "scrolled": true
   },
   "outputs": [],
   "source": [
    "# create scatterplot for industry experience and salary"
   ]
  },
  {
   "cell_type": "markdown",
   "id": "9b0dc883",
   "metadata": {},
   "source": [
    "##### Insights:\n",
    "\n",
    "[fill in with your observations from the visualization]"
   ]
  },
  {
   "cell_type": "markdown",
   "id": "e748463c",
   "metadata": {},
   "source": [
    "### Step 3 - Pick Two More Bivariate Relationships to Visualize"
   ]
  },
  {
   "cell_type": "code",
   "execution_count": 48,
   "id": "e36e82c9",
   "metadata": {},
   "outputs": [],
   "source": [
    "################################### TO DO #########################################\n",
    "####### FOLLOW PROJECT INSTRUCTIONS TO COMPLETE THIS STEP IN THE CELLS BELOW ######"
   ]
  },
  {
   "cell_type": "code",
   "execution_count": null,
   "id": "cb5d3917",
   "metadata": {},
   "outputs": [],
   "source": [
    "# create 1st visualization for bivariate relationship of your choice"
   ]
  },
  {
   "cell_type": "code",
   "execution_count": null,
   "id": "439513fe",
   "metadata": {},
   "outputs": [],
   "source": [
    "# create 2nd visualization for bivariate relationship of your choice"
   ]
  },
  {
   "cell_type": "markdown",
   "id": "97feb3bb",
   "metadata": {},
   "source": [
    "## Part 4 - Correlation & Hypothesis Testing"
   ]
  },
  {
   "cell_type": "markdown",
   "id": "73116470",
   "metadata": {},
   "source": [
    "### Step 1 - Review Correlation"
   ]
  },
  {
   "cell_type": "code",
   "execution_count": 49,
   "id": "31b3e5cb",
   "metadata": {},
   "outputs": [],
   "source": [
    "################################### TO DO #########################################\n",
    "####### FOLLOW PROJECT INSTRUCTIONS TO COMPLETE THIS STEP IN THE CELLS BELOW ######"
   ]
  },
  {
   "cell_type": "markdown",
   "id": "7cc9f053",
   "metadata": {},
   "source": [
    "#### Fill in blanks with brief description of the following terms:\n",
    "  \n",
    "  \n",
    "- **Correlation**\n",
    "> ***[...]***\n",
    "\n",
    "- **Correlation Coefficient**\n",
    ">***[...]***"
   ]
  },
  {
   "cell_type": "markdown",
   "id": "aa458808",
   "metadata": {},
   "source": [
    "### Step 2 - Review Hypothesis Testing & P-Value"
   ]
  },
  {
   "cell_type": "code",
   "execution_count": 50,
   "id": "9ef16a28",
   "metadata": {},
   "outputs": [],
   "source": [
    "################################### TO DO #########################################\n",
    "####### FOLLOW PROJECT INSTRUCTIONS TO COMPLETE THIS STEP IN THE CELLS BELOW ######"
   ]
  },
  {
   "cell_type": "markdown",
   "id": "72372aa0",
   "metadata": {},
   "source": [
    "#### Fill in blanks with brief description of the following terms:\n",
    "\n",
    "- **Hypothesis**\n",
    "> ***[...]***\n",
    "\n",
    "- **Null Hypothesis**\n",
    "> ***[...]***\n",
    "\n",
    "- **P-Value**\n",
    "> ***[...]***"
   ]
  },
  {
   "cell_type": "markdown",
   "id": "70d87c77",
   "metadata": {},
   "source": [
    "### Step 3 - Use Pearsonr & Spearmanr To Answer Questions About Correlation and P-Values"
   ]
  },
  {
   "cell_type": "markdown",
   "id": "a8eb3063",
   "metadata": {},
   "source": [
    "<h3 style='color:red;'> First, load 'salary_numeric.csv' - where education has been re-expressed as numeric variables.</h3>"
   ]
  },
  {
   "cell_type": "code",
   "execution_count": 32,
   "id": "39f2c28a",
   "metadata": {},
   "outputs": [],
   "source": [
    "# load salary_numeric.csv into dataframe where education levels have been re-expressed as numeric"
   ]
  },
  {
   "cell_type": "code",
   "execution_count": 51,
   "id": "2687b718",
   "metadata": {},
   "outputs": [],
   "source": [
    "################################### TO DO #########################################\n",
    "####### FOLLOW PROJECT INSTRUCTIONS TO COMPLETE THIS STEP IN THE CELLS BELOW ######"
   ]
  },
  {
   "cell_type": "code",
   "execution_count": 33,
   "id": "e437288d",
   "metadata": {},
   "outputs": [],
   "source": [
    "# import pearson and spearmanr methods from scipy.stats library"
   ]
  },
  {
   "cell_type": "markdown",
   "id": "5b412a9b",
   "metadata": {},
   "source": [
    "### What is the correlation between salary and education?"
   ]
  },
  {
   "cell_type": "markdown",
   "id": "b5695c8a",
   "metadata": {},
   "source": [
    "#### Your Hypothesis = [...]"
   ]
  },
  {
   "cell_type": "code",
   "execution_count": 34,
   "id": "b92e526e",
   "metadata": {},
   "outputs": [],
   "source": [
    "# calculate correlation and pvalue of salary and education with spearmanr method"
   ]
  },
  {
   "cell_type": "markdown",
   "id": "e0b33fa8",
   "metadata": {},
   "source": [
    "[interpret result]"
   ]
  },
  {
   "cell_type": "markdown",
   "id": "0b1ab9f0",
   "metadata": {},
   "source": [
    "#### Are these results statistically significant? How do you know?"
   ]
  },
  {
   "cell_type": "markdown",
   "id": "6dbbbeac",
   "metadata": {},
   "source": [
    "[answer]"
   ]
  },
  {
   "cell_type": "markdown",
   "id": "a05c6a59",
   "metadata": {},
   "source": [
    "### What is the correlation between salary and age?"
   ]
  },
  {
   "cell_type": "markdown",
   "id": "bd65d66c",
   "metadata": {},
   "source": [
    "#### Your Hypothesis [...]"
   ]
  },
  {
   "cell_type": "code",
   "execution_count": 36,
   "id": "59cfb7d9",
   "metadata": {},
   "outputs": [],
   "source": [
    "# calculate correlation and pvalue of salary and age with pearsonr method"
   ]
  },
  {
   "cell_type": "markdown",
   "id": "6c37d272",
   "metadata": {},
   "source": [
    "[interpret result]"
   ]
  },
  {
   "cell_type": "markdown",
   "id": "9ddb031a",
   "metadata": {},
   "source": [
    "#### Are these results statistically significant? How do you know? "
   ]
  },
  {
   "cell_type": "markdown",
   "id": "4e0e1e67",
   "metadata": {},
   "source": [
    "[answer]"
   ]
  },
  {
   "cell_type": "markdown",
   "id": "4d0de42f",
   "metadata": {},
   "source": [
    "### What is the correlation between salary and industry experience? "
   ]
  },
  {
   "cell_type": "markdown",
   "id": "a8076452",
   "metadata": {},
   "source": [
    "#### Your Hypothesis = [...]"
   ]
  },
  {
   "cell_type": "code",
   "execution_count": 38,
   "id": "b594af02",
   "metadata": {},
   "outputs": [],
   "source": [
    "# calculate correlation and pvalue of salary and industry experience with pearsonr method"
   ]
  },
  {
   "cell_type": "markdown",
   "id": "1b3ee60a",
   "metadata": {},
   "source": [
    "[interpret result]"
   ]
  },
  {
   "cell_type": "markdown",
   "id": "bc438c97",
   "metadata": {},
   "source": [
    "#### Are these results statistically significant? How do you know?"
   ]
  },
  {
   "cell_type": "markdown",
   "id": "6414b406",
   "metadata": {},
   "source": [
    "[answer]"
   ]
  },
  {
   "cell_type": "markdown",
   "id": "42594762",
   "metadata": {},
   "source": [
    "### Step 4 - Report Findings"
   ]
  },
  {
   "cell_type": "code",
   "execution_count": 57,
   "id": "99864d47",
   "metadata": {},
   "outputs": [],
   "source": [
    "################################### TO DO #########################################\n",
    "####### FOLLOW PROJECT INSTRUCTIONS TO COMPLETE THIS STEP IN THE CELLS BELOW ######"
   ]
  },
  {
   "cell_type": "markdown",
   "id": "bc3d1db6",
   "metadata": {},
   "source": [
    "### What was the null hypothesis for the relationships between education and salary, age and salary, and industry experience and salary?"
   ]
  },
  {
   "cell_type": "markdown",
   "id": "1b0aeec2",
   "metadata": {},
   "source": [
    "[answer]"
   ]
  },
  {
   "cell_type": "markdown",
   "id": "ad7fe6fc",
   "metadata": {},
   "source": [
    "### Can you reject the null hypothesis for any of the relationships you explored above?"
   ]
  },
  {
   "cell_type": "markdown",
   "id": "388dc3b3",
   "metadata": {},
   "source": [
    "[answer]"
   ]
  },
  {
   "cell_type": "markdown",
   "id": "e584db19",
   "metadata": {},
   "source": [
    "## Part 5 - Multivariate Analysis"
   ]
  },
  {
   "cell_type": "markdown",
   "id": "13194851",
   "metadata": {},
   "source": [
    "### Step 1 - Review Types of Multivariate Analysis"
   ]
  },
  {
   "cell_type": "code",
   "execution_count": 58,
   "id": "3c0d78a3",
   "metadata": {},
   "outputs": [],
   "source": [
    "################################### TO DO #########################################\n",
    "####### FOLLOW PROJECT INSTRUCTIONS TO COMPLETE THIS STEP IN THE CELLS BELOW ######"
   ]
  },
  {
   "cell_type": "markdown",
   "id": "7546cd75",
   "metadata": {},
   "source": [
    "#### Fill in the blanks with a brief description of each plot type \n",
    "  \n",
    "- pairplots\n",
    "> [...]\n",
    "- paired scatter plots\n",
    "> [...]\n",
    "- correlation matrix\n",
    "> [...]\n",
    "- heatmap\n",
    "> [...]"
   ]
  },
  {
   "cell_type": "markdown",
   "id": "b661be1d",
   "metadata": {},
   "source": [
    "### Step 2 - Create Pairplots for Dataset"
   ]
  },
  {
   "cell_type": "code",
   "execution_count": 59,
   "id": "e7ee98ae",
   "metadata": {},
   "outputs": [],
   "source": [
    "################################### TO DO #########################################\n",
    "####### FOLLOW PROJECT INSTRUCTIONS TO COMPLETE THIS STEP IN THE CELLS BELOW ######"
   ]
  },
  {
   "cell_type": "markdown",
   "id": "ead32e5e",
   "metadata": {},
   "source": [
    "#### pairplot of whole dataframe"
   ]
  },
  {
   "cell_type": "code",
   "execution_count": 39,
   "id": "1aebe013",
   "metadata": {},
   "outputs": [],
   "source": [
    "# create pairplot of dataframe"
   ]
  },
  {
   "cell_type": "markdown",
   "id": "f7be1281",
   "metadata": {},
   "source": [
    "##### Insights:\n",
    "\n",
    "[fill in with your observations from the visualization]"
   ]
  },
  {
   "cell_type": "markdown",
   "id": "3bc4a804",
   "metadata": {},
   "source": [
    "### Step 3 - Create Other Multivariate Plots"
   ]
  },
  {
   "cell_type": "code",
   "execution_count": 61,
   "id": "4f9c1d0d",
   "metadata": {},
   "outputs": [],
   "source": [
    "################################### TO DO #########################################\n",
    "####### FOLLOW PROJECT INSTRUCTIONS TO COMPLETE THIS STEP IN THE CELLS BELOW ######"
   ]
  },
  {
   "cell_type": "markdown",
   "id": "75dde479",
   "metadata": {},
   "source": [
    "### Correlation matrix"
   ]
  },
  {
   "cell_type": "code",
   "execution_count": 40,
   "id": "01154098",
   "metadata": {},
   "outputs": [],
   "source": [
    "# use .corr() to create correlation matrix"
   ]
  },
  {
   "cell_type": "markdown",
   "id": "dc3253a8",
   "metadata": {},
   "source": [
    "### Heatmap of correlation matrix"
   ]
  },
  {
   "cell_type": "code",
   "execution_count": 41,
   "id": "45bd0d02",
   "metadata": {},
   "outputs": [],
   "source": [
    "# create heatmap visualization of correlation matrix"
   ]
  },
  {
   "cell_type": "markdown",
   "id": "fd541bc6",
   "metadata": {},
   "source": [
    "##### Insights:\n",
    "\n",
    "[fill in with your observations from the visualization]"
   ]
  },
  {
   "cell_type": "markdown",
   "id": "0cae87c2",
   "metadata": {},
   "source": [
    "#### Crosstab of average salary grouped by education and industry"
   ]
  },
  {
   "cell_type": "code",
   "execution_count": 42,
   "id": "4bdd8071",
   "metadata": {},
   "outputs": [],
   "source": [
    "# use pd.crosstab() to calculate mean salary in each industry grouped by education level"
   ]
  },
  {
   "cell_type": "markdown",
   "id": "e6521fe3",
   "metadata": {},
   "source": [
    "#### Heatmap of crosstab of average salary grouped by education and industry"
   ]
  },
  {
   "cell_type": "code",
   "execution_count": 43,
   "id": "7fd953cb",
   "metadata": {},
   "outputs": [],
   "source": [
    "# save above result to new variable"
   ]
  },
  {
   "cell_type": "code",
   "execution_count": 44,
   "id": "3ec99c42",
   "metadata": {},
   "outputs": [],
   "source": [
    "# create heatmap with annotated mean salary in each industry and education level"
   ]
  },
  {
   "cell_type": "markdown",
   "id": "1f4b8d07",
   "metadata": {},
   "source": [
    "##### Insights:\n",
    "\n",
    "[fill in with your observations from the visualization]"
   ]
  },
  {
   "cell_type": "markdown",
   "id": "5357875a",
   "metadata": {},
   "source": [
    "### Step 4 - Report Findings"
   ]
  },
  {
   "cell_type": "code",
   "execution_count": 45,
   "id": "65e1f49a",
   "metadata": {},
   "outputs": [],
   "source": [
    "################################### TO DO #########################################\n",
    "  \n",
    "####### FOLLOW PROJECT INSTRUCTIONS TO COMPLETE THIS STEP IN THE CELLS BELOW ######"
   ]
  },
  {
   "cell_type": "markdown",
   "id": "92917a33",
   "metadata": {},
   "source": [
    "###### Along the way throughout this project, you should have been taking notes on insights from your exploratory data analysis. Take some time in a markdown cell below to write a couple paragraphs summarizing any observations, insights, conclusions, or further questions you have based on the exploratory analysis you conducted this week. "
   ]
  },
  {
   "cell_type": "markdown",
   "id": "84b74615",
   "metadata": {},
   "source": [
    "[...]"
   ]
  },
  {
   "cell_type": "markdown",
   "id": "9272556f",
   "metadata": {},
   "source": [
    "### Step 5 - Submit Project"
   ]
  },
  {
   "cell_type": "markdown",
   "id": "4d42b2c2",
   "metadata": {},
   "source": [
    "###### Push to GitHub, record brief code review video, and share links with Tech Lead and SME. "
   ]
  }
 ],
 "metadata": {
  "kernelspec": {
   "display_name": "Python 3 (ipykernel)",
   "language": "python",
   "name": "python3"
  },
  "language_info": {
   "codemirror_mode": {
    "name": "ipython",
    "version": 3
   },
   "file_extension": ".py",
   "mimetype": "text/x-python",
   "name": "python",
   "nbconvert_exporter": "python",
   "pygments_lexer": "ipython3",
   "version": "3.9.13"
  }
 },
 "nbformat": 4,
 "nbformat_minor": 5
}
